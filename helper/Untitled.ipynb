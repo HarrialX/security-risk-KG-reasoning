{
 "cells": [
  {
   "cell_type": "code",
   "execution_count": 2,
   "id": "9b6d2156",
   "metadata": {},
   "outputs": [
    {
     "data": {
      "text/plain": [
       "0.0"
      ]
     },
     "execution_count": 2,
     "metadata": {},
     "output_type": "execute_result"
    }
   ],
   "source": [
    "def overlap_ratio(list1, list2, k):\n",
    "    return sum(x == y for x, y in zip(list1[:k], list2[:k])) / k\n",
    "\n",
    "\n",
    "\n",
    "a = [1,3,2,5,6]\n",
    "b = [3,1,2,4,6]\n",
    "overlap_ratio(a, b, 1)"
   ]
  },
  {
   "cell_type": "code",
   "execution_count": 7,
   "id": "aed3f2ac",
   "metadata": {},
   "outputs": [
    {
     "data": {
      "text/plain": [
       "tensor(0.5000)"
      ]
     },
     "execution_count": 7,
     "metadata": {},
     "output_type": "execute_result"
    }
   ],
   "source": [
    "def overlap_ratio_batch(list1, list2, k):\n",
    "    assert len(list1) == len(list2)\n",
    "    rst = 0\n",
    "    for i in range(len(list1)):\n",
    "        rst += sum(x == y for x, y in zip(list1[i][:k], list2[i][:k])) / k\n",
    "    return rst / len(list1)\n",
    "\n",
    "\n",
    "import torch\n",
    "a = torch.tensor([[1,3,2,5,6], [2,3,1,1,6]])\n",
    "b =  torch.tensor([[3,1,2,4,6], [2,1,1,3,6]])\n",
    "overlap_ratio_batch(a, b, 5)"
   ]
  },
  {
   "cell_type": "code",
   "execution_count": null,
   "id": "7a70cb9b",
   "metadata": {},
   "outputs": [],
   "source": []
  }
 ],
 "metadata": {
  "kernelspec": {
   "display_name": "py39",
   "language": "python",
   "name": "py39"
  },
  "language_info": {
   "codemirror_mode": {
    "name": "ipython",
    "version": 3
   },
   "file_extension": ".py",
   "mimetype": "text/x-python",
   "name": "python",
   "nbconvert_exporter": "python",
   "pygments_lexer": "ipython3",
   "version": "3.9.7"
  }
 },
 "nbformat": 4,
 "nbformat_minor": 5
}
