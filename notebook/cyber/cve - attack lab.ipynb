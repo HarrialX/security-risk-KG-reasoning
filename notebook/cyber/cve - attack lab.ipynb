{
 "cells": [
  {
   "cell_type": "markdown",
   "metadata": {},
   "source": [
    "## select attack targeted (cve-id)"
   ]
  },
  {
   "cell_type": "code",
   "execution_count": 1,
   "metadata": {},
   "outputs": [
    {
     "name": "stderr",
     "output_type": "stream",
     "text": [
      "parsing crawled CVE data: 100%|█████████████████████████████████████████████████████████████████████████████████████| 45/45 [00:08<00:00,  5.08it/s]\n"
     ]
    }
   ],
   "source": [
    "import os\n",
    "import pickle\n",
    "from collections import defaultdict\n",
    "from tqdm import tqdm\n",
    "import pandas as pd\n",
    "\n",
    "raw_path = '/data/zhaohan/adv-reasoning/data/cyberkg-raw'\n",
    "start_year, end_year = 2000, 2021\n",
    "\n",
    "cve_paths = [os.path.join(raw_path, 'cve', str(y)) for y in range(start_year, end_year+1)]\n",
    "load_paths = []\n",
    "for path in cve_paths:\n",
    "    for root, _, filenames in os.walk(path):\n",
    "        load_paths.extend([os.path.join(root, filename) for filename in filenames])\n",
    "    \n",
    "cve2score = {}  # checked: each collected cve only has one score\n",
    "pd2cve = defaultdict(set)\n",
    "for path in tqdm(load_paths, desc='parsing crawled CVE data'):\n",
    "    data = pd.read_csv(path, delimiter='|',  index_col=0, header=0)\n",
    "    for index, row in data.iterrows():\n",
    "        cve_id = row['cve-id']\n",
    "        score = float(row['score'])\n",
    "        cve2score[cve_id] = score\n",
    "        \n",
    "        for p in set(row['pd-info'].split(';')):\n",
    "            if 'None' in p:\n",
    "                continue\n",
    "            _, vendor, product, version = p.split(',')\n",
    "            pd2cve[product].add(cve_id)"
   ]
  },
  {
   "cell_type": "code",
   "execution_count": 2,
   "metadata": {},
   "outputs": [
    {
     "name": "stdout",
     "output_type": "stream",
     "text": [
      "all we have for AP 424 and Tech 596 \n"
     ]
    }
   ],
   "source": [
    "# build attack-pattern & technique to CVE dict\n",
    "\n",
    "import os, sys\n",
    "sys.path.append(os.path.abspath('../..'))\n",
    "\n",
    "import pickle\n",
    "from collections import defaultdict\n",
    "import genkg.cyberkg_utils as cyber\n",
    "\n",
    "rel_dict = cyber.rel_dict\n",
    "rev_rel_prefix = cyber.rev_rel_prefix\n",
    "\n",
    "kg_path = '/data/zhaohan/adv-reasoning/save/data/cyberkg'\n",
    "str_entset = pickle.load(open(os.path.join(kg_path, 'entset.pkl'), 'rb'))\n",
    "str_factset = pickle.load(open(os.path.join(kg_path, 'factset.pkl'), 'rb'))\n",
    "\n",
    "ap_ents, tech_ents = str_entset['attack-pattern'], str_entset['technique']\n",
    "\n",
    "print('all we have for AP %d and Tech %d ' % (len(ap_ents), len(tech_ents)))\n",
    "\n",
    "tech_ap_map = defaultdict(set)\n",
    "for h, r, t in str_factset[rel_dict['technique:attack-pattern']]:\n",
    "    assert h in str_entset['technique']\n",
    "    assert t in str_entset['attack-pattern']\n",
    "    tech_ap_map[h].add(t)\n",
    "    \n",
    "ap_cwe_map = defaultdict(set)\n",
    "for h, r, t in str_factset[rel_dict['attack-pattern:weakness']]:\n",
    "    assert h in str_entset['attack-pattern']\n",
    "    assert t in str_entset['weakness']\n",
    "    ap_cwe_map[h].add(t)\n",
    "        \n",
    "cwe_cve_map = defaultdict(set)\n",
    "for h, r, t in str_factset[rel_dict['weakness:cve-id']]:\n",
    "    assert h in str_entset['weakness']\n",
    "    assert t in str_entset['cve-id']\n",
    "    cwe_cve_map[h].add(t)\n",
    "    \n",
    "    \n",
    "cve_ap_map = defaultdict(set)\n",
    "for ap_name in ap_ents:\n",
    "    for cwe_name in ap_cwe_map[ap_name]:\n",
    "        for cve in cwe_cve_map[cwe_name]:\n",
    "            cve_ap_map[cve].add(ap_name)\n",
    "            \n",
    "cve_tech_map = defaultdict(set)\n",
    "for tech_name in tech_ents:\n",
    "    n_cve = 0\n",
    "    for ap_name in tech_ap_map[tech_name]:\n",
    "        for cwe_name in ap_cwe_map[ap_name]:\n",
    "            for cve in cwe_cve_map[cwe_name]:\n",
    "                cve_tech_map[cve].add(tech_name)"
   ]
  },
  {
   "cell_type": "code",
   "execution_count": 5,
   "metadata": {
    "scrolled": true
   },
   "outputs": [
    {
     "name": "stdout",
     "output_type": "stream",
     "text": [
      "CVE-2016-1692\tscore 4.3\tmitigation num 10\trelated factnum 74\thave AP 17\thave TECH 23\n",
      "CVE-2020-6472\tscore 4.3\tmitigation num 8\trelated factnum 50\thave AP 59\thave TECH 19\n",
      "CVE-2012-2815\tscore 5.0\tmitigation num 6\trelated factnum 104\thave AP 59\thave TECH 19\n",
      "CVE-2015-1244\tscore 5.0\tmitigation num 8\trelated factnum 40\thave AP 59\thave TECH 19\n",
      "CVE-2018-18351\tscore 4.3\tmitigation num 5\trelated factnum 38\thave AP 51\thave TECH 5\n",
      "CVE-2018-6082\tscore 4.3\tmitigation num 4\trelated factnum 36\thave AP 59\thave TECH 19\n",
      "CVE-2020-6473\tscore 4.3\tmitigation num 8\trelated factnum 52\thave AP 60\thave TECH 19\n",
      "CVE-2018-6109\tscore 4.3\tmitigation num 5\trelated factnum 40\thave AP 59\thave TECH 19\n",
      "CVE-2020-6482\tscore 4.3\tmitigation num 8\trelated factnum 50\thave AP 3\thave TECH 1\n",
      "CVE-2018-6099\tscore 4.3\tmitigation num 5\trelated factnum 40\thave AP 59\thave TECH 19\n",
      "CVE-2012-2820\tscore 5.0\tmitigation num 2\trelated factnum 96\thave AP 51\thave TECH 5\n",
      "CVE-2020-15983\tscore 4.4\tmitigation num 6\trelated factnum 42\thave AP 51\thave TECH 5\n",
      "CVE-2016-1658\tscore 4.3\tmitigation num 8\trelated factnum 46\thave AP 76\thave TECH 42\n",
      "CVE-2021-21189\tscore 4.3\tmitigation num 6\trelated factnum 36\thave AP 10\thave TECH 5\n",
      "CVE-2020-6489\tscore 4.3\tmitigation num 8\trelated factnum 50\thave AP 59\thave TECH 19\n",
      "CVE-2016-1677\tscore 4.3\tmitigation num 10\trelated factnum 76\thave AP 59\thave TECH 19\n",
      "CVE-2018-6095\tscore 4.3\tmitigation num 5\trelated factnum 40\thave AP 59\thave TECH 19\n",
      "CVE-2020-6487\tscore 4.3\tmitigation num 8\trelated factnum 50\thave AP 3\thave TECH 1\n",
      "CVE-2018-6052\tscore 4.3\tmitigation num 5\trelated factnum 40\thave AP 59\thave TECH 19\n",
      "CVE-2012-2825\tscore 5.0\tmitigation num 8\trelated factnum 108\thave AP 51\thave TECH 5\n",
      "CVE-2019-5838\tscore 4.3\tmitigation num 7\trelated factnum 44\thave AP 51\thave TECH 5\n",
      "CVE-2020-6511\tscore 4.3\tmitigation num 10\trelated factnum 56\thave AP 63\thave TECH 19\n",
      "CVE-2019-5773\tscore 4.3\tmitigation num 6\trelated factnum 50\thave AP 67\thave TECH 6\n",
      "CVE-2020-6527\tscore 4.3\tmitigation num 9\trelated factnum 52\thave AP 3\thave TECH 1\n",
      "CVE-2018-6040\tscore 4.3\tmitigation num 5\trelated factnum 40\thave AP 11\thave TECH 4\n",
      "CVE-2010-0663\tscore 5.0\tmitigation num 4\trelated factnum 108\thave AP 59\thave TECH 19\n",
      "CVE-2021-21219\tscore 4.3\tmitigation num 6\trelated factnum 36\thave AP 59\thave TECH 19\n",
      "CVE-2020-6547\tscore 4.3\tmitigation num 3\trelated factnum 28\thave AP 65\thave TECH 19\n",
      "CVE-2016-1687\tscore 4.3\tmitigation num 9\trelated factnum 62\thave AP 59\thave TECH 19\n",
      "CVE-2018-17468\tscore 4.3\tmitigation num 5\trelated factnum 38\thave AP 59\thave TECH 19\n",
      "CVE-2018-6114\tscore 4.3\tmitigation num 5\trelated factnum 38\thave AP 51\thave TECH 5\n",
      "CVE-2020-6521\tscore 4.3\tmitigation num 9\trelated factnum 52\thave AP 59\thave TECH 19\n",
      "CVE-2010-0660\tscore 5.0\tmitigation num 3\trelated factnum 106\thave AP 59\thave TECH 19\n",
      "CVE-2018-6077\tscore 4.3\tmitigation num 4\trelated factnum 36\thave AP 59\thave TECH 19\n",
      "CVE-2011-0779\tscore 5.0\tmitigation num 3\trelated factnum 22\thave AP 51\thave TECH 5\n",
      "CVE-2018-6117\tscore 4.3\tmitigation num 5\trelated factnum 38\thave AP 59\thave TECH 19\n",
      "CVE-2018-6037\tscore 4.3\tmitigation num 5\trelated factnum 40\thave AP 59\thave TECH 19\n",
      "CVE-2016-1698\tscore 4.3\tmitigation num 7\trelated factnum 58\thave AP 59\thave TECH 19\n",
      "CVE-2016-1665\tscore 4.3\tmitigation num 10\trelated factnum 52\thave AP 51\thave TECH 5\n",
      "CVE-2016-1654\tscore 4.3\tmitigation num 9\trelated factnum 54\thave AP 51\thave TECH 5\n",
      "CVE-2010-3259\tscore 4.3\tmitigation num 15\trelated factnum 60\thave AP 59\thave TECH 19\n",
      "CVE-2020-6570\tscore 4.3\tmitigation num 7\trelated factnum 46\thave AP 59\thave TECH 19\n",
      "CVE-2015-1285\tscore 5.0\tmitigation num 7\trelated factnum 56\thave AP 59\thave TECH 19\n",
      "CVE-2018-6137\tscore 4.3\tmitigation num 5\trelated factnum 38\thave AP 59\thave TECH 19\n",
      "CVE-2010-0644\tscore 4.3\tmitigation num 5\trelated factnum 110\thave AP 59\thave TECH 19\n",
      "CVE-2021-21177\tscore 4.3\tmitigation num 6\trelated factnum 36\thave AP 10\thave TECH 5\n",
      "CVE-2011-3022\tscore 5.0\tmitigation num 2\trelated factnum 38\thave AP 5\thave TECH 1\n",
      "CVE-2011-2800\tscore 4.3\tmitigation num 6\trelated factnum 34\thave AP 59\thave TECH 19\n",
      "CVE-2018-6112\tscore 4.3\tmitigation num 5\trelated factnum 40\thave AP 4\thave TECH 6\n",
      "CVE-2021-30589\tscore 4.3\tmitigation num 4\trelated factnum 26\thave AP 51\thave TECH 5\n",
      "CVE-2018-6045\tscore 4.3\tmitigation num 5\trelated factnum 40\thave AP 59\thave TECH 19\n",
      "CVE-2016-1682\tscore 4.3\tmitigation num 10\trelated factnum 76\thave AP 17\thave TECH 23\n",
      "CVE-2021-21217\tscore 4.3\tmitigation num 6\trelated factnum 36\thave AP 59\thave TECH 19\n",
      "CVE-2018-6079\tscore 4.3\tmitigation num 4\trelated factnum 36\thave AP 59\thave TECH 19\n",
      "CVE-2009-2955\tscore 5.0\tmitigation num 2\trelated factnum 44\thave AP 51\thave TECH 5\n",
      "CVE-2018-6053\tscore 4.3\tmitigation num 5\trelated factnum 40\thave AP 59\thave TECH 19\n",
      "CVE-2020-6480\tscore 4.3\tmitigation num 8\trelated factnum 50\thave AP 3\thave TECH 1\n",
      "CVE-2018-6164\tscore 4.3\tmitigation num 5\trelated factnum 38\thave AP 59\thave TECH 19\n",
      "CVE-2018-6093\tscore 4.3\tmitigation num 5\trelated factnum 40\thave AP 59\thave TECH 19\n",
      "CVE-2019-5839\tscore 4.3\tmitigation num 8\trelated factnum 44\thave AP 51\thave TECH 5\n",
      "CVE-2020-6476\tscore 4.3\tmitigation num 8\trelated factnum 50\thave AP 3\thave TECH 1\n",
      "CVE-2018-6179\tscore 4.3\tmitigation num 5\trelated factnum 38\thave AP 59\thave TECH 19\n",
      "CVE-2020-6483\tscore 4.3\tmitigation num 8\trelated factnum 50\thave AP 3\thave TECH 1\n",
      "CVE-2018-16078\tscore 4.3\tmitigation num 4\trelated factnum 30\thave AP 59\thave TECH 19\n",
      "CVE-2018-18352\tscore 4.3\tmitigation num 5\trelated factnum 38\thave AP 11\thave TECH 4\n",
      "CVE-2010-0643\tscore 4.3\tmitigation num 5\trelated factnum 110\thave AP 59\thave TECH 19\n",
      "CVE-2018-6048\tscore 4.3\tmitigation num 5\trelated factnum 40\thave AP 51\thave TECH 5\n",
      "CVE-2018-6066\tscore 4.3\tmitigation num 4\trelated factnum 36\thave AP 59\thave TECH 19\n",
      "CVE-2018-6075\tscore 4.3\tmitigation num 4\trelated factnum 36\thave AP 59\thave TECH 19\n",
      "CVE-2016-1699\tscore 4.3\tmitigation num 8\trelated factnum 70\thave AP 17\thave TECH 23\n"
     ]
    }
   ],
   "source": [
    "import os, sys\n",
    "sys.path.append(os.path.abspath('../..'))\n",
    "import pickle\n",
    "from genkg.cyberkg_utils import gen_cve_miti_dict\n",
    "\n",
    "tar_evi = 'Chrome'\n",
    "\n",
    "# for k in pd2cve.keys():\n",
    "#     if tar_evi in k:\n",
    "#         print(k)\n",
    "\n",
    "# step1: find cve in kg who has miti (>=thre num)\n",
    "kg_path = '/data/zhaohan/adv-reasoning/save/data/cyberkg'\n",
    "factset = pickle.load(open(os.path.join(kg_path, 'factset.pkl'), 'rb'))\n",
    "id_factset = pickle.load(open(os.path.join(kg_path, 'id_factset.pkl'), 'rb'))\n",
    "id2ent = pickle.load(open(os.path.join(kg_path, 'id2ent.pkl'), 'rb'))\n",
    "ent2id = pickle.load(open(os.path.join(kg_path, 'ent2id.pkl'), 'rb'))\n",
    "cve_miti_dict = gen_cve_miti_dict(kg_path)\n",
    "inkg_cve = [id2ent[cve_id] for cve_id in cve_miti_dict.keys()]  # str cve name\n",
    "\n",
    "# step2: intersect with tar_evi related cve\n",
    "conj_cve = set(inkg_cve) & set(pd2cve[tar_evi])   # str cve name\n",
    "\n",
    "# step3: find a cve who has smaller score\n",
    "conj_cve2score = {}\n",
    "for cve_name in conj_cve:\n",
    "    conj_cve2score[cve_name] = cve2score[cve_name]\n",
    "\n",
    "    \n",
    "def factnum(ent_id):\n",
    "    count = 0\n",
    "    for rel, facts in id_factset.items():\n",
    "        for h, r, t in facts:\n",
    "            if h==ent_id or t==ent_id:\n",
    "                count += 1\n",
    "    return count\n",
    "\n",
    "# print(sorted(conj_cve2score.values()))\n",
    "score_thre = 5\n",
    "for cve_name, score in conj_cve2score.items():\n",
    "    ap_num = len(cve_ap_map[cve_name])\n",
    "    tech_num = len(cve_tech_map[cve_name])\n",
    "    if score <= score_thre and ap_num > 0 and tech_num > 0:\n",
    "        cve_id = ent2id[cve_name]\n",
    "        print('%s\\tscore %.1f\\tmitigation num %d\\trelated factnum %d\\thave AP %d\\thave TECH %d' %\n",
    "              (cve_name, score, len(cve_miti_dict[cve_id]), factnum(cve_id), ap_num, tech_num))"
   ]
  },
  {
   "cell_type": "code",
   "execution_count": 13,
   "metadata": {},
   "outputs": [
    {
     "name": "stdout",
     "output_type": "stream",
     "text": [
      "PD:Chrome 110883\n",
      "PD:Chrome Os 112227\n"
     ]
    }
   ],
   "source": [
    "# check all ents related to tar_evi\n",
    "\n",
    "str_entset = pickle.load(open(os.path.join(kg_path, 'entset.pkl'), 'rb'))\n",
    "\n",
    "for e_name in str_entset['product']:\n",
    "    if tar_evi in e_name:\n",
    "        print(e_name, ent2id[e_name])\n",
    "        "
   ]
  },
  {
   "cell_type": "code",
   "execution_count": 1,
   "metadata": {},
   "outputs": [
    {
     "name": "stdout",
     "output_type": "stream",
     "text": [
      "665\n",
      "2550\n"
     ]
    }
   ],
   "source": [
    "# check surrounding neighbors\n",
    "import os, sys\n",
    "sys.path.append(os.path.abspath('../..'))\n",
    "import genkg.cyberkg_utils as cyber\n",
    "\n",
    "kg_path = '/data/zhaohan/adv-reasoning/save/data/cyberkg'\n",
    "\n",
    "fact_dict = cyber.gen_factdict(kg_path)\n",
    "\n",
    "evi_id = 110883\n",
    "sur_ents = set()\n",
    "for ents in fact_dict[evi_id].values():\n",
    "    sur_ents |= ents\n",
    "print(len(sur_ents))\n",
    "\n",
    "sur_sur_ents = set()\n",
    "for e in sur_ents:\n",
    "    for ents in fact_dict[e].values():\n",
    "        sur_sur_ents |= ents\n",
    "print(len(sur_sur_ents))"
   ]
  },
  {
   "cell_type": "code",
   "execution_count": 15,
   "metadata": {},
   "outputs": [
    {
     "name": "stdout",
     "output_type": "stream",
     "text": [
      "50\n",
      "VER:Chrome Os:ver:33.0.1750.16\n",
      "VER:Chrome Os:ver:0.10.142.3\n",
      "VER:Chrome Os:ver:0.12.433.28\n",
      "VER:Chrome Os:ver:0.9.126.0\n",
      "VER:Chrome Os:ver:0.10.156.4\n",
      "VER:Chrome Os:ver:0.10.156.50\n",
      "VER:Chrome Os:ver:8.0.552.343\n",
      "CVE-2014-1710\n",
      "CVE-2011-1042\n",
      "VER:Chrome Os:ver:0.10.146.1\n",
      "CVE-2011-0482\n",
      "VER:Chrome Os:ver:33.0.1750.112\n",
      "VER:Chrome Os:ver:0.11.257.32\n",
      "VER:Chrome Os:ver:0.12.433.9\n",
      "VER:Chrome Os:ver:0.11.227.0\n",
      "VER:Chrome Os:ver:0.10.156.34\n",
      "VER:Chrome Os:ver:0.10.156.30\n",
      "VER:Chrome Os:ver:33.0.1750.124\n",
      "VER:Chrome Os:ver:0.12.397.0\n",
      "VER:Chrome Os:ver:33.0.1750.93\n",
      "CVE-2011-2169\n",
      "VER:Chrome Os:ver:33.0.1750.29\n",
      "CVE-2010-4577\n",
      "VER:Chrome Os:ver:33.0.1750.58\n",
      "VER:Chrome Os:ver:0.12.433.14\n",
      "VER:Chrome Os:ver:0.10.156.54\n",
      "CVE-2011-0480\n",
      "VER:Chrome Os:ver:0.11.257.14\n",
      "VER:Chrome Os:ver:8.0.552.344\n",
      "CVE-2014-3188\n",
      "VER:Chrome Os:ver:0.10.156.20\n",
      "VER:Chrome Os:ver:0.11.257.91\n",
      "VER:Chrome Os:ver:33.0.1750.2\n",
      "VER:Chrome Os:ver:0.12.362.2\n",
      "VER:Chrome Os:ver:0.10.156.18\n",
      "VER:Chrome Os:ver:0.11.257.3\n",
      "VER:Chrome Os:ver:33.0.1750.51\n",
      "VD:Google\n",
      "VER:Chrome Os:ver:0.12.433.22\n",
      "VER:Chrome Os:ver:33.0.1750.70\n",
      "VER:Chrome Os:ver:0.11.257.44\n",
      "VER:Chrome Os:ver:0.10.156.1\n",
      "VER:Chrome Os:ver:0.10.156.46\n",
      "VER:Chrome Os:ver:33.0.1750.5\n",
      "VER:Chrome Os:ver:0.10.156.36\n",
      "VER:Chrome Os:ver:0.11.257.39\n",
      "VER:Chrome Os:ver:8.0.552.342\n",
      "CVE-2014-1711\n",
      "CVE-2014-1707\n",
      "VER:Chrome Os:ver:0.11.257.18\n"
     ]
    }
   ],
   "source": [
    "# check 1-hop neighbors of tar_evi\n",
    "\n",
    "import genkg.cyberkg_utils as cyber\n",
    "\n",
    "fact_dict = cyber.gen_factdict(kg_path)\n",
    "one_hop_neighbor = set()  # 1-hop neighbors from the tar_path anchors\n",
    "\n",
    "for r, n_eids in fact_dict[112227].items():\n",
    "    one_hop_neighbor |= n_eids\n",
    "print(len(one_hop_neighbor))\n",
    "for eid in one_hop_neighbor:\n",
    "    print(id2ent[eid])"
   ]
  },
  {
   "cell_type": "code",
   "execution_count": 6,
   "metadata": {},
   "outputs": [
    {
     "name": "stdout",
     "output_type": "stream",
     "text": [
      "10\n",
      "AP:593 \t 2222 \t 2\n",
      "AP:115 \t 2222 \t 1\n",
      "AP:151 \t 2222 \t 1\n",
      "AP:57 \t 2259 \t 3\n",
      "AP:22 \t 17199 \t 5\n",
      "AP:650 \t 2222 \t 4\n",
      "AP:633 \t 2222 \t 3\n",
      "AP:94 \t 2348 \t 6\n",
      "AP:114 \t 2222 \t 2\n",
      "AP:194 \t 2222 \t 1\n"
     ]
    }
   ],
   "source": [
    "# given a targeted cve, check each related ap has how many cves and has how many surrounding entities\n",
    "cve = 'CVE-2021-21189'\n",
    "print(len(cve_ap_map[cve]))\n",
    "\n",
    "ent2id = pickle.load(open(os.path.join(kg_path, 'ent2id.pkl'), 'rb'))\n",
    "fact_dict = cyber.gen_factdict(kg_path)\n",
    "ap_cve_map = defaultdict(set)\n",
    "for ap_name in cve_ap_map[cve]:\n",
    "    n_cve = 0\n",
    "    for cwe_name in ap_cwe_map[ap_name]:\n",
    "        n_cve += len(cwe_cve_map[cwe_name])\n",
    "        ap_cve_map[ap_name] |= cwe_cve_map[cwe_name]\n",
    "        \n",
    "    ap_id = ent2id[ap_name]\n",
    "    sur_ents = set()\n",
    "    for ents in fact_dict[ap_id].values():\n",
    "        sur_ents |= ents\n",
    "\n",
    "    print(ap_name, '\\t', n_cve, '\\t', len(sur_ents))"
   ]
  },
  {
   "cell_type": "code",
   "execution_count": 7,
   "metadata": {
    "scrolled": true
   },
   "outputs": [
    {
     "name": "stdout",
     "output_type": "stream",
     "text": [
      "5\n",
      "TECH:T1505.003 \t 2222 \t 2\n",
      "TECH:T1550.001 \t 2222 \t 3\n",
      "TECH:T1100 \t 2222 \t 1\n",
      "TECH:T1134 \t 2222 \t 3\n",
      "TECH:T1557 \t 2348 \t 3\n"
     ]
    }
   ],
   "source": [
    "# Given a cve, check each tech is related to how many cves and has how many surrounding facts\n",
    "\n",
    "cve = 'CVE-2021-21189'\n",
    "print(len(cve_tech_map[cve]))\n",
    "\n",
    "ent2id = pickle.load(open(os.path.join(kg_path, 'ent2id.pkl'), 'rb'))\n",
    "fact_dict = cyber.gen_factdict(kg_path)\n",
    "tech_cve_map = defaultdict(set)\n",
    "for tech_name in cve_tech_map[cve]:\n",
    "    n_cve = 0\n",
    "    for ap_name in tech_ap_map[tech_name]:\n",
    "        for cwe_name in ap_cwe_map[ap_name]:\n",
    "            n_cve += len(cwe_cve_map[cwe_name])\n",
    "            tech_cve_map[tech_name] |= cwe_cve_map[cwe_name]\n",
    "        \n",
    "    tech_id = ent2id[tech_name]\n",
    "    sur_ents = set()\n",
    "    for ents in fact_dict[tech_id].values():\n",
    "        sur_ents |= ents\n",
    "\n",
    "    print(tech_name, '\\t', n_cve, '\\t', len(sur_ents))\n",
    "\n"
   ]
  },
  {
   "cell_type": "code",
   "execution_count": null,
   "metadata": {},
   "outputs": [],
   "source": []
  }
 ],
 "metadata": {
  "kernelspec": {
   "display_name": "py39",
   "language": "python",
   "name": "py39"
  },
  "language_info": {
   "codemirror_mode": {
    "name": "ipython",
    "version": 3
   },
   "file_extension": ".py",
   "mimetype": "text/x-python",
   "name": "python",
   "nbconvert_exporter": "python",
   "pygments_lexer": "ipython3",
   "version": "3.9.7"
  }
 },
 "nbformat": 4,
 "nbformat_minor": 2
}
