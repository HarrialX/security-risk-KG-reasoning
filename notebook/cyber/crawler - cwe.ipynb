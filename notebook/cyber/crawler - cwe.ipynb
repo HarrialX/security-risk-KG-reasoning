{
 "cells": [
  {
   "cell_type": "markdown",
   "metadata": {},
   "source": [
    "##### This file contains crawling codes to get all cwe info from https://cwe.mitre.org"
   ]
  },
  {
   "cell_type": "code",
   "execution_count": 1,
   "metadata": {},
   "outputs": [],
   "source": [
    "# NOTE: extend this file to crawl more cwe info if need, so far we need mitigation onlu"
   ]
  },
  {
   "cell_type": "markdown",
   "metadata": {},
   "source": [
    "## Collect weblink for all CWEs\n",
    "\n",
    "we collect cwe urls related to cves from https://www.cvedetails.com/cwe-definitions.php"
   ]
  },
  {
   "cell_type": "code",
   "execution_count": 12,
   "metadata": {},
   "outputs": [
    {
     "name": "stderr",
     "output_type": "stream",
     "text": [
      "crawling page num: 100%|██████████| 160/160 [00:00<00:00, 621954.25it/s]\n",
      "collecting CVE urls: 100%|██████████| 14/14 [00:04<00:00,  3.04it/s]"
     ]
    },
    {
     "name": "stdout",
     "output_type": "stream",
     "text": [
      "total CWE num: 668\n"
     ]
    },
    {
     "name": "stderr",
     "output_type": "stream",
     "text": [
      "\n"
     ]
    }
   ],
   "source": [
    "import os\n",
    "import json\n",
    "import requests\n",
    "from tqdm import tqdm\n",
    "from bs4 import BeautifulSoup\n",
    "from collections import defaultdict\n",
    "\n",
    "url_save_dir = './'  # save {cve: webpage url}\n",
    "\n",
    "root = 'https://www.cvedetails.com/cwe-definitions.php'\n",
    "soup = BeautifulSoup(requests.get(root).content, 'html.parser')\n",
    "\n",
    "page_urls = []\n",
    "for ele in tqdm(soup.find_all('a'), desc=\"crawling page num\"):\n",
    "    if ele.has_attr('href'):\n",
    "        href = ele.get('href')\n",
    "        if 'cwe-definitions' in href and 'cwelist.html' in href:\n",
    "            page_urls.append(\"https://www.cvedetails.com\" + href)\n",
    "\n",
    "cwe_urls = defaultdict(str)  # 'cwe-id': url\n",
    "for url in tqdm(page_urls, desc=f\"collecting CVE urls\"):\n",
    "    html = BeautifulSoup(requests.get(url).content, 'html.parser') \n",
    "    for ele in html.find_all('a'):\n",
    "        if ele.has_attr('title') and \"CWE definition\" in ele.get('title'):\n",
    "            cwe_id = ele.text\n",
    "            cwe_urls[cwe_id] = 'https://cwe.mitre.org/data/definitions/%s.html' % cwe_id\n",
    "\n",
    "with open(os.path.join(url_save_dir, 'cwe_urls.json'), 'w') as f:  \n",
    "    json.dump(cwe_urls, f)\n",
    "    print('total CWE num: %d' % len(cwe_urls))\n"
   ]
  },
  {
   "cell_type": "markdown",
   "metadata": {},
   "source": [
    "## Crawl CWE details"
   ]
  },
  {
   "cell_type": "code",
   "execution_count": 13,
   "metadata": {},
   "outputs": [
    {
     "name": "stderr",
     "output_type": "stream",
     "text": [
      "100%|██████████| 668/668 [02:32<00:00,  4.37it/s]"
     ]
    },
    {
     "name": "stdout",
     "output_type": "stream",
     "text": [
      "saved at /data/zhaohan/adv-reasoning/data/cyberkg-raw/cwe/cwe_detail.json\n"
     ]
    },
    {
     "name": "stderr",
     "output_type": "stream",
     "text": [
      "\n"
     ]
    }
   ],
   "source": [
    "import os\n",
    "import json\n",
    "import requests\n",
    "import pandas as pd\n",
    "from tqdm import tqdm\n",
    "from bs4 import BeautifulSoup\n",
    "from collections import defaultdict\n",
    "\n",
    "save_dir = '/data/zhaohan/adv-reasoning/data/cyberkg-raw/cwe'\n",
    "url_load_dir = './'\n",
    "with open(os.path.join(url_load_dir, 'cwe_urls.json'), 'r') as f:\n",
    "    cwe_urls = json.load(f)\n",
    "    \n",
    "    \n",
    "# cwe_detail = {'cwe-id':  {\n",
    "#                 'mitigation': {\n",
    "#                         phase name (str): str\n",
    "#                     }\n",
    "#                 }    \n",
    "#            }\n",
    "cwe_detail = defaultdict(dict)\n",
    "\n",
    "for cwe_id, cwe_url in tqdm(cwe_urls.items(), disable=False):\n",
    "    cwe_html = BeautifulSoup(requests.get(cwe_url).content, 'html.parser')\n",
    "    \n",
    "    #--------------- crawl mitigation ---------------#\n",
    "    phase_text_dict = defaultdict(list)\n",
    "    \n",
    "    miti_div = cwe_html.find('div', attrs={'name':'oc_%s_Potential_Mitigations' % cwe_id, \n",
    "                                           'id': 'oc_%s_Potential_Mitigations' % cwe_id,\n",
    "                                           'class': 'expandblock'})\n",
    "    if miti_div is None:\n",
    "        continue\n",
    "        \n",
    "    for phase_td in miti_div.find_all('td', attrs={'valign':'top'}): # each block of phase\n",
    "        phase_p = phase_td.find('p', attrs={'class': 'subheading'})\n",
    "        if phase_p is None: # desc before concrete mitigation in each phase\n",
    "            continue\n",
    "        else:\n",
    "            phase_names = phase_p.text # exactly 1 ':' in there\n",
    "            assert phase_names.startswith('Phase:') or phase_names.startswith('Phases:')\n",
    "            \n",
    "            if phase_names.startswith('Phase:'):\n",
    "                phase_names = phase_names[len('Phase:'):]\n",
    "            else:\n",
    "                phase_names = phase_names[len('Phases:'):]\n",
    "            phase_names = [name.strip() for name in phase_names.split(';')]\n",
    "            \n",
    "        text = []\n",
    "        for div in phase_td.find_all('div', attrs={'class': 'indent'}):\n",
    "            text.append(div.text)\n",
    "        text = '\\n'.join(text).strip()\n",
    "\n",
    "        for name in phase_names:\n",
    "            phase_text_dict[name].append(text)\n",
    "            \n",
    "    cwe_detail[cwe_id]['mitigation'] = defaultdict(str)\n",
    "    for name, text_list in phase_text_dict.items():\n",
    "        cwe_detail[cwe_id]['mitigation'][name] = ' \\n '.join(text_list)\n",
    "    \n",
    "save_dir = os.path.join(save_dir, 'cwe_detail.json')\n",
    "with open(save_dir, 'w') as f:  \n",
    "    json.dump(cwe_detail, f)\n",
    "    print('saved at %s' % save_dir)\n"
   ]
  },
  {
   "cell_type": "code",
   "execution_count": null,
   "metadata": {},
   "outputs": [],
   "source": []
  }
 ],
 "metadata": {
  "kernelspec": {
   "display_name": "py39",
   "language": "python",
   "name": "py39"
  },
  "language_info": {
   "codemirror_mode": {
    "name": "ipython",
    "version": 3
   },
   "file_extension": ".py",
   "mimetype": "text/x-python",
   "name": "python",
   "nbconvert_exporter": "python",
   "pygments_lexer": "ipython3",
   "version": "3.9.5"
  }
 },
 "nbformat": 4,
 "nbformat_minor": 2
}
