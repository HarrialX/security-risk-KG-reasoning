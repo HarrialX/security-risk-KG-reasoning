{
 "cells": [
  {
   "cell_type": "code",
   "execution_count": 1,
   "metadata": {},
   "outputs": [
    {
     "name": "stderr",
     "output_type": "stream",
     "text": [
      " 78%|███████▊  | 440/567 [02:08<00:38,  3.32it/s]"
     ]
    },
    {
     "name": "stdout",
     "output_type": "stream",
     "text": [
      "T1053.004 Scheduled Task/Job: Launchd https://attack.mitre.org/techniques/T1053/004\n"
     ]
    },
    {
     "name": "stderr",
     "output_type": "stream",
     "text": [
      "100%|██████████| 567/567 [02:45<00:00,  3.43it/s]\n"
     ]
    },
    {
     "name": "stdout",
     "output_type": "stream",
     "text": [
      "Done\n"
     ]
    }
   ],
   "source": [
    "# crawl MITRE ATT&CK\n",
    "#  - crawl Technique texts\n",
    "#  - crawl mitigation code and link\n",
    "\n",
    "import os\n",
    "import json\n",
    "import requests\n",
    "from tqdm import tqdm\n",
    "from bs4 import BeautifulSoup\n",
    "from collections import defaultdict\n",
    "from urllib.request import Request, urlopen\n",
    "\n",
    "tech_dict = defaultdict(dict)\n",
    "'''\n",
    "{\n",
    "    'code' : {\n",
    "        'name': str,\n",
    "        'link': str,\n",
    "        'desc': str,\n",
    "        'miti': [str],\n",
    "        'miti_link': [str]\n",
    "    }\n",
    "}\n",
    "'''\n",
    "\n",
    "save_dir = '/data/zhaohan/adv-reasoning/data/cyberkg-raw/mitre-attack/'\n",
    "os.makedirs(save_dir, exist_ok=True)\n",
    "\n",
    "# NOTE: we only consider enterprise tech\n",
    "root = 'https://attack.mitre.org/techniques/enterprise/'\n",
    "response = requests.get(root)\n",
    "html = BeautifulSoup(response.content, 'html.parser')\n",
    "\n",
    "link_prefix = 'https://attack.mitre.org'\n",
    "\n",
    "for tr in tqdm(html.find_all('tr', attrs={'class':'technique'})):\n",
    "    link = link_prefix + tr.find('a').get('href')\n",
    "    \n",
    "    if link.split('/')[-1].startswith('T'):\n",
    "        code = link.split('/')[-1]\n",
    "    else:\n",
    "        code = '.'.join(link.split('/')[-2:])\n",
    "    \n",
    "    tech_html = BeautifulSoup(requests.get(link).content, 'html.parser')\n",
    "    name = ' '.join(tech_html.find('h1').text.strip().replace('\\n', ' ').split()) \n",
    "    try:\n",
    "        desc = tech_html.find('div', attrs={'class':'description-body'}).text.strip()\n",
    "    except: \n",
    "        print(code, name, link)\n",
    "        desc = ''\n",
    "        \n",
    "    miti_codes = []\n",
    "    miti_links = []\n",
    "    for a in tech_html.find_all('a'):\n",
    "        url = a.get('href')\n",
    "        if url is not None and 'mitigations' in url and url.split('/')[-1].startswith('M'):\n",
    "            m_code = url.split('/')[-1]\n",
    "            if m_code not in miti_codes:\n",
    "                miti_codes.append(m_code)\n",
    "                miti_links.append(link_prefix + url)\n",
    "#     print(code, name, link, miti_codes, miti_links)\n",
    "    \n",
    "    tech_dict[code] = {\n",
    "        'name': name,\n",
    "        'link': link,\n",
    "        'desc': desc,\n",
    "        'miti': miti_codes,\n",
    "        'miti_link': miti_links,\n",
    "    }\n",
    "    \n",
    "with open(os.path.join(save_dir, 'techniques.json'), 'w') as f: \n",
    "    json.dump(tech_dict, f)\n",
    "print('Done')"
   ]
  },
  {
   "cell_type": "code",
   "execution_count": null,
   "metadata": {},
   "outputs": [],
   "source": []
  }
 ],
 "metadata": {
  "kernelspec": {
   "display_name": "py39",
   "language": "python",
   "name": "py39"
  },
  "language_info": {
   "codemirror_mode": {
    "name": "ipython",
    "version": 3
   },
   "file_extension": ".py",
   "mimetype": "text/x-python",
   "name": "python",
   "nbconvert_exporter": "python",
   "pygments_lexer": "ipython3",
   "version": "3.9.5"
  }
 },
 "nbformat": 4,
 "nbformat_minor": 2
}
