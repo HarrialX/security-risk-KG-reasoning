{
 "cells": [
  {
   "cell_type": "code",
   "execution_count": 1,
   "metadata": {},
   "outputs": [
    {
     "name": "stdout",
     "output_type": "stream",
     "text": [
      "156025 146857 144938\n"
     ]
    }
   ],
   "source": [
    "import os\n",
    "import json\n",
    "import pickle\n",
    "\n",
    "\n",
    "# check how many CVEs in BRON and our KG\n",
    "str_entset = pickle.load(open(os.path.join('./cyberkg_L', 'entset.pkl'), 'rb'))\n",
    "\n",
    "bron_path = '/data/zhaohan/BRON/full_data/full_output_data'\n",
    "bron_graph = json.load(open(os.path.join(bron_path, 'BRON.json'), 'rb'))\n",
    "\n",
    "\n",
    "cve2bron_idmap = json.load(open(os.path.join(bron_path, \n",
    "                                             'BRON/original_id_to_bron_id', \n",
    "                                             'cve_id_bron_id.json'), 'rb'))\n",
    "bron2cve_idmap = {v:k for k, v in cve2bron_idmap.items()}\n",
    "    \n",
    "\n",
    "cve_bronid = set()\n",
    "for edge in bron_graph['edges']:\n",
    "    h, t, _ = edge\n",
    "    if h.startswith('cve_'):\n",
    "        cve_bronid.add(h.split('_')[-1])\n",
    "    elif t.startswith('cve_'):\n",
    "        cve_bronid.add(t.split('_')[-1])\n",
    "\n",
    "cve_ids_in_BRON = set()\n",
    "for bron_id in cve_bronid:\n",
    "    cve_ids_in_BRON.add(bron2cve_idmap[bron_id])\n",
    "    \n",
    "print(len(str_entset['cve-id']), len(cve_ids_in_BRON), len(cve_ids_in_BRON & str_entset['cve-id']))"
   ]
  },
  {
   "cell_type": "code",
   "execution_count": 2,
   "metadata": {},
   "outputs": [
    {
     "data": {
      "text/plain": [
       "defaultdict(int,\n",
       "            {('technique', 'tactic'): 733,\n",
       "             ('tactic', 'technique'): 733,\n",
       "             ('technique', 'capec'): 157,\n",
       "             ('capec', 'technique'): 157,\n",
       "             ('capec', 'cwe'): 1153,\n",
       "             ('cwe', 'capec'): 1153,\n",
       "             ('cwe', 'cve'): 109872,\n",
       "             ('cve', 'cpe'): 1248927,\n",
       "             ('cve', 'cwe'): 109872,\n",
       "             ('cpe', 'cve'): 1248927})"
      ]
     },
     "execution_count": 2,
     "metadata": {},
     "output_type": "execute_result"
    }
   ],
   "source": [
    "from collections import defaultdict\n",
    "\n",
    "# check BRON graph contains all reverse edge\n",
    "# we only need to consider one direction later\n",
    "bron_facts = set()\n",
    "for edge in bron_graph['edges']:\n",
    "    h, t, _ = edge\n",
    "    bron_facts.add((h, t))\n",
    "    \n",
    "for f in bron_facts:\n",
    "    assert (f[1], f[0]) in bron_facts\n",
    "    \n",
    "edge_types = defaultdict(int)\n",
    "for edge in bron_graph['edges']:\n",
    "    h, t, r = edge\n",
    "    src_prefix = h.split('_')[0]\n",
    "    dst_prefix = t.split('_')[0]\n",
    "    edge_types[(src_prefix, dst_prefix)] += 1\n",
    "edge_types"
   ]
  },
  {
   "cell_type": "code",
   "execution_count": 3,
   "metadata": {},
   "outputs": [
    {
     "name": "stdout",
     "output_type": "stream",
     "text": [
      "Tactic\tTech\tCAPEC\tCWE\tCVE\n",
      "TA0043 \t 41 \t 0 \t 0 \t 0\n",
      "TA0042 \t 38 \t 1 \t 0 \t 0\n",
      "TA0001 \t 19 \t 9 \t 12 \t 1369\n",
      "TA0002 \t 38 \t 2 \t 1 \t 44\n",
      "TA0003 \t 108 \t 23 \t 31 \t 21760\n",
      "TA0004 \t 96 \t 20 \t 30 \t 21715\n",
      "TA0005 \t 158 \t 29 \t 48 \t 22152\n",
      "TA0006 \t 55 \t 12 \t 19 \t 3305\n",
      "TA0007 \t 39 \t 18 \t 10 \t 7945\n",
      "TA0008 \t 23 \t 9 \t 20 \t 11512\n",
      "TA0009 \t 35 \t 8 \t 7 \t 2397\n",
      "TA0011 \t 40 \t 1 \t 0 \t 0\n",
      "TA0010 \t 17 \t 1 \t 1 \t 292\n",
      "TA0040 \t 26 \t 11 \t 4 \t 701\n"
     ]
    }
   ],
   "source": [
    "# 1. count CVE num under each tactic\n",
    "# 2. lifecycle: count CVE num among multiple tactics\n",
    "\n",
    "from collections import defaultdict\n",
    "\n",
    "# all are bron id with prefix, e.g., 'tactic_'\n",
    "tac2tech = defaultdict(set)\n",
    "tech2capec = defaultdict(set)\n",
    "capec2cwe = defaultdict(set)\n",
    "cwe2cve = defaultdict(set)\n",
    "\n",
    "for edge in bron_graph['edges']:\n",
    "    h, t, _ = edge\n",
    "    if h.startswith('tactic') and t.startswith('technique'):\n",
    "        tac2tech[h].add(t)\n",
    "    if h.startswith('technique') and t.startswith('capec'):\n",
    "        tech2capec[h].add(t)\n",
    "    if h.startswith('capec') and t.startswith('cwe'):\n",
    "        capec2cwe[h].add(t)\n",
    "    if h.startswith('cwe') and t.startswith('cve'):\n",
    "        cwe2cve[h].add(t)\n",
    "# print(len(tac2tech), len(tech2capec), len(capec2cwe), len(cwe2cve))\n",
    "\n",
    "# 1. count CVE num under each tactic\n",
    "\n",
    "tac2capec = defaultdict(set)\n",
    "tac2cwe = defaultdict(set)\n",
    "tac2cve = defaultdict(set)\n",
    "\n",
    "for tac in tac2tech:\n",
    "    for tech in tac2tech[tac]:\n",
    "        tac2capec[tac] |= tech2capec[tech]\n",
    "        for capec in tech2capec[tech]:\n",
    "            tac2cwe[tac] |= capec2cwe[capec]\n",
    "            for cwe in capec2cwe[capec]:\n",
    "                tac2cve[tac] |= cwe2cve[cwe]\n",
    "\n",
    "    \n",
    "# 2. lifecycle: count CVE num among multiple tactics\n",
    "tacname2code = {\n",
    "    \"collection\": \"TA0009\",\n",
    "    \"command-and-control\": \"TA0011\",\n",
    "    \"credential-access\": \"TA0006\",\n",
    "    \"defense-evasion\": \"TA0005\",\n",
    "    \"discovery\": \"TA0007\",\n",
    "    \"execution\": \"TA0002\",\n",
    "    \"exfiltration\": \"TA0010\",\n",
    "    \"impact\": \"TA0040\",\n",
    "    \"initial-access\": \"TA0001\",\n",
    "    \"lateral-movement\": \"TA0008\",\n",
    "    \"persistence\": \"TA0003\",\n",
    "    \"privilege-escalation\": \"TA0004\",\n",
    "    \"reconnaissance\": \"TA0043\",\n",
    "    \"resource-development\": \"TA0042\"\n",
    "}\n",
    "tacname2bronid = {\n",
    "    \"command-and-control\": \"00003\", \n",
    "    \"credential-access\": \"00009\", \n",
    "    \"collection\": \"00020\", \n",
    "    \"defense-evasion\": \"00022\", \n",
    "    \"discovery\": \"00024\", \n",
    "    \"exfiltration\": \"00029\", \n",
    "    \"lateral-movement\": \"00043\", \n",
    "    \"privilege-escalation\": \"00068\", \n",
    "    \"persistence\": \"00069\", \n",
    "    \"execution\": \"00094\", \n",
    "    \"initial-access\": \"00175\", \n",
    "    \"impact\": \"00395\", \n",
    "    \"resource-development\": \"00608\", \n",
    "    \"reconnaissance\": \"00641\"\n",
    "}\n",
    "taccode2bronid = { code: 'tactic_'+tacname2bronid[name] for name, code in tacname2code.items()}\n",
    "tacbronid2code = {v:k for k, v in taccode2bronid.items()}\n",
    "\n",
    "lifecycle2cve = defaultdict(set) # {[TAs]: set(cves)} TA is org code, cves are bron id with 'cve_'\n",
    "lifecycle_full = ['TA0043', 'TA0042', 'TA0001', 'TA0002', 'TA0003', 'TA0004', 'TA0005',\n",
    "                  'TA0006', 'TA0007', 'TA0008', 'TA0009', 'TA0011', 'TA0010', 'TA0040',]\n",
    "print('Tactic\\tTech\\tCAPEC\\tCWE\\tCVE')\n",
    "\n",
    "for tac in lifecycle_full:\n",
    "    print(tac, '\\t',\n",
    "          len(tac2tech[taccode2bronid[tac]]),  '\\t',\n",
    "          len(tac2capec[taccode2bronid[tac]]), '\\t',\n",
    "          len(tac2cwe[taccode2bronid[tac]]),   '\\t',\n",
    "          len(tac2cve[taccode2bronid[tac]]))\n"
   ]
  },
  {
   "cell_type": "code",
   "execution_count": 4,
   "metadata": {},
   "outputs": [
    {
     "name": "stdout",
     "output_type": "stream",
     "text": [
      "23872 Counter({3: 9910, 5: 7350, 6: 2813, 4: 1704, 1: 1487, 2: 545, 7: 63})\n"
     ]
    }
   ],
   "source": [
    "# cve instances {range: tactics}\n",
    "cve2tac = defaultdict(set)\n",
    "for tac, cves in tac2cve.items():\n",
    "    for cve in cves:\n",
    "        cve2tac[cve].add(tac)\n",
    "freq = [len(v) for v in cve2tac.values()]\n",
    "\n",
    "from collections import Counter\n",
    "print(len(cve2tac), Counter(freq))\n",
    "\n",
    "lifecycle2cve = defaultdict(set) # {['TA0001', 'TA0002',..]: {CVE-xxxx}} org code\n",
    "for cve, lifecycle in cve2tac.items():\n",
    "    lifecycle = [tacbronid2code[tac] for tac in lifecycle]  # org code\n",
    "    lifecycle = sorted([lifecycle_full.index(tac) for tac in lifecycle]) # sorted idx\n",
    "    lifecycle = [lifecycle_full[idx] for idx in lifecycle]  # sorted code\n",
    "    lifecycle2cve[','.join(lifecycle)].add(cve)\n",
    "    \n"
   ]
  },
  {
   "cell_type": "code",
   "execution_count": 5,
   "metadata": {},
   "outputs": [
    {
     "name": "stdout",
     "output_type": "stream",
     "text": [
      "TA0001,TA0003,TA0004,TA0005 596\n",
      "TA0001,TA0003,TA0004,TA0005,TA0006 105\n",
      "TA0001,TA0003,TA0004,TA0005,TA0006,TA0007,TA0008 20\n",
      "TA0001,TA0003,TA0004,TA0005,TA0006,TA0008 575\n",
      "TA0001,TA0003,TA0004,TA0005,TA0006,TA0008,TA0009 5\n",
      "TA0001,TA0003,TA0004,TA0005,TA0006,TA0008,TA0010 22\n",
      "TA0001,TA0003,TA0004,TA0005,TA0007,TA0008 1\n",
      "TA0001,TA0003,TA0005,TA0006,TA0008,TA0009 45\n",
      "TA0002,TA0008 43\n",
      "TA0002,TA0008,TA0010 1\n",
      "TA0003,TA0004,TA0005 9908\n",
      "TA0003,TA0004,TA0005,TA0006,TA0007,TA0008 5\n",
      "TA0003,TA0004,TA0005,TA0006,TA0007,TA0008,TA0009 11\n",
      "TA0003,TA0004,TA0005,TA0006,TA0008,TA0009 2184\n",
      "TA0003,TA0004,TA0005,TA0006,TA0008,TA0009,TA0010 4\n",
      "TA0003,TA0004,TA0005,TA0006,TA0008,TA0009,TA0040 1\n",
      "TA0003,TA0004,TA0005,TA0007 36\n",
      "TA0003,TA0004,TA0005,TA0007,TA0008 7245\n",
      "TA0003,TA0004,TA0005,TA0007,TA0008,TA0010 1\n",
      "TA0003,TA0004,TA0005,TA0007,TA0008,TA0040 2\n",
      "TA0003,TA0004,TA0005,TA0008 986\n",
      "TA0003,TA0004,TA0005,TA0040 8\n",
      "TA0005 31\n",
      "TA0005,TA0006,TA0008,TA0009 78\n",
      "TA0005,TA0008 283\n",
      "TA0006 30\n",
      "TA0006,TA0007 150\n",
      "TA0006,TA0007,TA0010 1\n",
      "TA0006,TA0009 69\n",
      "TA0007 473\n",
      "TA0010 263\n",
      "TA0040 690\n"
     ]
    }
   ],
   "source": [
    "for k in sorted(lifecycle2cve.keys()):\n",
    "    print(k, len(lifecycle2cve[k]))"
   ]
  },
  {
   "cell_type": "code",
   "execution_count": 12,
   "metadata": {},
   "outputs": [
    {
     "name": "stdout",
     "output_type": "stream",
     "text": [
      "['CVE-2020-9977', 'CVE-2020-9931', 'CVE-2020-9914'] CVE-2019-18800\n"
     ]
    }
   ],
   "source": [
    "l1 = [bron2cve_idmap[cve.split('_')[-1]] for cve in lifecycle2cve['TA0003,TA0004,TA0005']]\n",
    "l2 = [bron2cve_idmap[cve.split('_')[-1]] for cve in lifecycle2cve['TA0006,TA0007,TA0010']]\n",
    "\n",
    "l1 = sorted(l1, reverse=True)\n",
    "l2 = sorted(l2, reverse=True)\n",
    "print(l1[:3], l2[0])"
   ]
  },
  {
   "cell_type": "code",
   "execution_count": null,
   "metadata": {},
   "outputs": [],
   "source": []
  }
 ],
 "metadata": {
  "kernelspec": {
   "display_name": "py39",
   "language": "python",
   "name": "py39"
  },
  "language_info": {
   "codemirror_mode": {
    "name": "ipython",
    "version": 3
   },
   "file_extension": ".py",
   "mimetype": "text/x-python",
   "name": "python",
   "nbconvert_exporter": "python",
   "pygments_lexer": "ipython3",
   "version": "3.9.5"
  }
 },
 "nbformat": 4,
 "nbformat_minor": 2
}
