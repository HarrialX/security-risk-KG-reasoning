{
 "cells": [
  {
   "cell_type": "code",
   "execution_count": 3,
   "metadata": {},
   "outputs": [
    {
     "data": {
      "text/plain": [
       "{'Anatomy',\n",
       " 'Atc',\n",
       " 'Biological Process',\n",
       " 'Cellular Component',\n",
       " 'Compound',\n",
       " 'Disease',\n",
       " 'Gene',\n",
       " 'Molecular Function',\n",
       " 'Pathway',\n",
       " 'Pharmacologic Class',\n",
       " 'Side Effect',\n",
       " 'Symptom',\n",
       " 'Tax'}"
      ]
     },
     "execution_count": 3,
     "metadata": {},
     "output_type": "execute_result"
    }
   ],
   "source": [
    "import csv, os\n",
    "\n",
    "raw_path = '/data/zhaohan/adv-reasoning/data/drkg'\n",
    "cate = set()\n",
    "for row in csv.reader(open(os.path.join(raw_path, 'entity2src.tsv')), delimiter=\"\\t\"):\n",
    "    name = row[0]\n",
    "    cate.add(name.split('::')[0])\n",
    "cate"
   ]
  },
  {
   "cell_type": "code",
   "execution_count": 14,
   "metadata": {
    "scrolled": true
   },
   "outputs": [
    {
     "name": "stdout",
     "output_type": "stream",
     "text": [
      "True Gene Gene\n",
      "True Gene Gene\n",
      "True Gene Gene\n",
      "True Gene Gene\n",
      "True Gene Gene\n",
      "True Gene Gene\n",
      "True Compound Compound\n",
      "True Gene Gene\n",
      "True Gene Gene\n",
      "True Gene Gene\n",
      "True Gene Gene\n",
      "True Gene Gene\n",
      "True Gene Gene\n",
      "True Gene Gene\n",
      "True Gene Gene\n",
      "True Gene Gene\n",
      "True Gene Gene\n",
      "True Gene Gene\n",
      "True Gene Gene\n",
      "True Disease Disease\n",
      "True Gene Gene\n",
      "True Gene Gene\n",
      "True Gene Gene\n",
      "True Gene Gene\n",
      "True Gene Gene\n",
      "True Gene Gene\n",
      "True Gene Gene\n",
      "True Gene Gene\n",
      "True Gene Gene\n",
      "True Compound Compound\n",
      "True Gene Gene\n",
      "True Gene Gene\n",
      "True Gene Gene\n",
      "True Gene Gene\n",
      "True Gene Gene\n"
     ]
    }
   ],
   "source": [
    "# check if reverse name already in DRKG dataset\n",
    "import csv, os\n",
    "\n",
    "raw_path = '/data/zhaohan/adv-reasoning/data/drkg'\n",
    "cate = set()\n",
    "for row in csv.reader(open(os.path.join(raw_path, 'relation_glossary.tsv')), delimiter=\"\\t\"):\n",
    "    name = row[0]\n",
    "    cate.add(name)\n",
    "    \n",
    "for name in cate:\n",
    "    splits = name.split(':')\n",
    "    if len(splits) ==  1:\n",
    "        continue\n",
    "    pre, c1, c2 = ':'.join(splits[:-2]), splits[-2], splits[-1]\n",
    "    rename = ':'.join([pre, c2, c1])\n",
    "    if rename in cate:\n",
    "        print(c1==c2, c1, c2)"
   ]
  },
  {
   "cell_type": "code",
   "execution_count": 7,
   "metadata": {},
   "outputs": [
    {
     "name": "stdout",
     "output_type": "stream",
     "text": [
      "['Gene', 'Compound', 'Atc', 'Disease', 'Tax', 'Biological Process', 'Symptom', 'Anatomy', 'Molecular Function', 'Pharmacologic Class', 'Cellular Component', 'Pathway', 'Side Effect']\n",
      "['bioarx::HumGenHumGen:Gene:Gene', 'reverse:bioarx::HumGenHumGen:Gene:Gene', 'bioarx::VirGenHumGen:Gene:Gene', 'reverse:bioarx::VirGenHumGen:Gene:Gene', 'bioarx::DrugVirGen:Compound:Gene', 'reverse:bioarx::DrugVirGen:Compound:Gene', 'bioarx::DrugHumGen:Compound:Gene', 'reverse:bioarx::DrugHumGen:Compound:Gene', 'bioarx::Covid2_acc_host_gene::Disease:Gene', 'reverse:bioarx::Covid2_acc_host_gene::Disease:Gene', 'bioarx::Coronavirus_ass_host_gene::Disease:Gene', 'reverse:bioarx::Coronavirus_ass_host_gene::Disease:Gene', 'DGIDB::INHIBITOR::Gene:Compound', 'reverse:DGIDB::INHIBITOR::Gene:Compound', 'DGIDB::ANTAGONIST::Gene:Compound', 'reverse:DGIDB::ANTAGONIST::Gene:Compound', 'DGIDB::OTHER::Gene:Compound', 'reverse:DGIDB::OTHER::Gene:Compound', 'DGIDB::AGONIST::Gene:Compound', 'reverse:DGIDB::AGONIST::Gene:Compound', 'DGIDB::BINDER::Gene:Compound', 'reverse:DGIDB::BINDER::Gene:Compound', 'DGIDB::MODULATOR::Gene:Compound', 'reverse:DGIDB::MODULATOR::Gene:Compound', 'DGIDB::BLOCKER::Gene:Compound', 'reverse:DGIDB::BLOCKER::Gene:Compound', 'DGIDB::CHANNEL BLOCKER::Gene:Compound', 'reverse:DGIDB::CHANNEL BLOCKER::Gene:Compound', 'DGIDB::ANTIBODY::Gene:Compound', 'reverse:DGIDB::ANTIBODY::Gene:Compound', 'DGIDB::POSITIVE ALLOSTERIC MODULATOR::Gene:Compound', 'reverse:DGIDB::POSITIVE ALLOSTERIC MODULATOR::Gene:Compound', 'DGIDB::ALLOSTERIC MODULATOR::Gene:Compound', 'reverse:DGIDB::ALLOSTERIC MODULATOR::Gene:Compound', 'DGIDB::ACTIVATOR::Gene:Compound', 'reverse:DGIDB::ACTIVATOR::Gene:Compound', 'DGIDB::PARTIAL AGONIST::Gene:Compound', 'reverse:DGIDB::PARTIAL AGONIST::Gene:Compound', 'DRUGBANK::x-atc::Compound:Atc', 'reverse:DRUGBANK::x-atc::Compound:Atc', 'DRUGBANK::ddi-interactor-in::Compound:Compound', 'reverse:DRUGBANK::ddi-interactor-in::Compound:Compound', 'DRUGBANK::target::Compound:Gene', 'reverse:DRUGBANK::target::Compound:Gene', 'DRUGBANK::enzyme::Compound:Gene', 'reverse:DRUGBANK::enzyme::Compound:Gene', 'DRUGBANK::carrier::Compound:Gene', 'reverse:DRUGBANK::carrier::Compound:Gene', 'DRUGBANK::treats::Compound:Disease', 'reverse:DRUGBANK::treats::Compound:Disease', 'GNBR::E::Compound:Gene', 'reverse:GNBR::E::Compound:Gene', 'GNBR::A+::Compound:Gene', 'reverse:GNBR::A+::Compound:Gene', 'GNBR::N::Compound:Gene', 'reverse:GNBR::N::Compound:Gene', 'GNBR::K::Compound:Gene', 'reverse:GNBR::K::Compound:Gene', 'GNBR::A-::Compound:Gene', 'reverse:GNBR::A-::Compound:Gene', 'GNBR::E+::Compound:Gene', 'reverse:GNBR::E+::Compound:Gene', 'GNBR::B::Compound:Gene', 'reverse:GNBR::B::Compound:Gene', 'GNBR::E-::Compound:Gene', 'reverse:GNBR::E-::Compound:Gene', 'GNBR::O::Compound:Gene', 'reverse:GNBR::O::Compound:Gene', 'GNBR::Z::Compound:Gene', 'reverse:GNBR::Z::Compound:Gene', 'GNBR::T::Compound:Disease', 'reverse:GNBR::T::Compound:Disease', 'GNBR::C::Compound:Disease', 'reverse:GNBR::C::Compound:Disease', 'GNBR::Sa::Compound:Disease', 'reverse:GNBR::Sa::Compound:Disease', 'GNBR::Pa::Compound:Disease', 'reverse:GNBR::Pa::Compound:Disease', 'GNBR::Mp::Compound:Disease', 'reverse:GNBR::Mp::Compound:Disease', 'GNBR::Pr::Compound:Disease', 'reverse:GNBR::Pr::Compound:Disease', 'GNBR::J::Compound:Disease', 'reverse:GNBR::J::Compound:Disease', 'GNBR::L::Gene:Disease', 'reverse:GNBR::L::Gene:Disease', 'GNBR::U::Gene:Disease', 'reverse:GNBR::U::Gene:Disease', 'GNBR::Y::Gene:Disease', 'reverse:GNBR::Y::Gene:Disease', 'GNBR::J::Gene:Disease', 'reverse:GNBR::J::Gene:Disease', 'GNBR::Te::Gene:Disease', 'reverse:GNBR::Te::Gene:Disease', 'GNBR::Md::Gene:Disease', 'reverse:GNBR::Md::Gene:Disease', 'GNBR::G::Gene:Disease', 'reverse:GNBR::G::Gene:Disease', 'GNBR::D::Gene:Disease', 'reverse:GNBR::D::Gene:Disease', 'GNBR::X::Gene:Disease', 'reverse:GNBR::X::Gene:Disease', 'GNBR::Ud::Gene:Disease', 'reverse:GNBR::Ud::Gene:Disease', 'GNBR::V+::Gene:Gene', 'reverse:GNBR::V+::Gene:Gene', 'GNBR::Q::Gene:Gene', 'reverse:GNBR::Q::Gene:Gene', 'GNBR::Rg::Gene:Gene', 'reverse:GNBR::Rg::Gene:Gene', 'GNBR::B::Gene:Gene', 'reverse:GNBR::B::Gene:Gene', 'GNBR::I::Gene:Gene', 'reverse:GNBR::I::Gene:Gene', 'GNBR::E+::Gene:Gene', 'reverse:GNBR::E+::Gene:Gene', 'GNBR::H::Gene:Gene', 'reverse:GNBR::H::Gene:Gene', 'GNBR::W::Gene:Gene', 'reverse:GNBR::W::Gene:Gene', 'GNBR::E::Gene:Gene', 'reverse:GNBR::E::Gene:Gene', 'GNBR::in_tax::Gene:Tax', 'reverse:GNBR::in_tax::Gene:Tax', 'Hetionet::GpBP::Gene:Biological Process', 'reverse:Hetionet::GpBP::Gene:Biological Process', 'Hetionet::GiG::Gene:Gene', 'reverse:Hetionet::GiG::Gene:Gene', 'Hetionet::CrC::Compound:Compound', 'reverse:Hetionet::CrC::Compound:Compound', 'Hetionet::DdG::Disease:Gene', 'reverse:Hetionet::DdG::Disease:Gene', 'Hetionet::DpS::Disease:Symptom', 'reverse:Hetionet::DpS::Disease:Symptom', 'Hetionet::DlA::Disease:Anatomy', 'reverse:Hetionet::DlA::Disease:Anatomy', 'Hetionet::CtD::Compound:Disease', 'reverse:Hetionet::CtD::Compound:Disease', 'Hetionet::CbG::Compound:Gene', 'reverse:Hetionet::CbG::Compound:Gene', 'Hetionet::CuG::Compound:Gene', 'reverse:Hetionet::CuG::Compound:Gene', 'Hetionet::DrD::Disease:Disease', 'reverse:Hetionet::DrD::Disease:Disease', 'Hetionet::DaG::Disease:Gene', 'reverse:Hetionet::DaG::Disease:Gene', 'Hetionet::CpD::Compound:Disease', 'reverse:Hetionet::CpD::Compound:Disease', 'Hetionet::AdG::Anatomy:Gene', 'reverse:Hetionet::AdG::Anatomy:Gene', 'Hetionet::AuG::Anatomy:Gene', 'reverse:Hetionet::AuG::Anatomy:Gene', 'Hetionet::GcG::Gene:Gene', 'reverse:Hetionet::GcG::Gene:Gene', 'Hetionet::GpMF::Gene:Molecular Function', 'reverse:Hetionet::GpMF::Gene:Molecular Function', 'Hetionet::PCiC::Pharmacologic Class:Compound', 'reverse:Hetionet::PCiC::Pharmacologic Class:Compound', 'Hetionet::GpCC::Gene:Cellular Component', 'reverse:Hetionet::GpCC::Gene:Cellular Component', 'Hetionet::Gr>G::Gene:Gene', 'reverse:Hetionet::Gr>G::Gene:Gene', 'Hetionet::CdG::Compound:Gene', 'reverse:Hetionet::CdG::Compound:Gene', 'Hetionet::DuG::Disease:Gene', 'reverse:Hetionet::DuG::Disease:Gene', 'Hetionet::GpPW::Gene:Pathway', 'reverse:Hetionet::GpPW::Gene:Pathway', 'Hetionet::CcSE::Compound:Side Effect', 'reverse:Hetionet::CcSE::Compound:Side Effect', 'Hetionet::AeG::Anatomy:Gene', 'reverse:Hetionet::AeG::Anatomy:Gene', 'INTACT::PHYSICAL ASSOCIATION::Compound:Gene', 'reverse:INTACT::PHYSICAL ASSOCIATION::Compound:Gene', 'INTACT::DIRECT INTERACTION::Compound:Gene', 'reverse:INTACT::DIRECT INTERACTION::Compound:Gene', 'INTACT::ASSOCIATION::Compound:Gene', 'reverse:INTACT::ASSOCIATION::Compound:Gene', 'INTACT::ASSOCIATION::Gene:Gene', 'reverse:INTACT::ASSOCIATION::Gene:Gene', 'INTACT::PHYSICAL ASSOCIATION::Gene:Gene', 'reverse:INTACT::PHYSICAL ASSOCIATION::Gene:Gene', 'INTACT::COLOCALIZATION::Gene:Gene', 'reverse:INTACT::COLOCALIZATION::Gene:Gene', 'INTACT::DEPHOSPHORYLATION REACTION::Gene:Gene', 'reverse:INTACT::DEPHOSPHORYLATION REACTION::Gene:Gene', 'INTACT::CLEAVAGE REACTION::Gene:Gene', 'reverse:INTACT::CLEAVAGE REACTION::Gene:Gene', 'INTACT::DIRECT INTERACTION::Gene:Gene', 'reverse:INTACT::DIRECT INTERACTION::Gene:Gene', 'INTACT::PHOSPHORYLATION REACTION::Gene:Gene', 'reverse:INTACT::PHOSPHORYLATION REACTION::Gene:Gene', 'INTACT::ADP RIBOSYLATION REACTION::Gene:Gene', 'reverse:INTACT::ADP RIBOSYLATION REACTION::Gene:Gene', 'INTACT::UBIQUITINATION REACTION::Gene:Gene', 'reverse:INTACT::UBIQUITINATION REACTION::Gene:Gene', 'INTACT::PROTEIN CLEAVAGE::Gene:Gene', 'reverse:INTACT::PROTEIN CLEAVAGE::Gene:Gene', 'STRING::REACTION::Gene:Gene', 'reverse:STRING::REACTION::Gene:Gene', 'STRING::CATALYSIS::Gene:Gene', 'reverse:STRING::CATALYSIS::Gene:Gene', 'STRING::ACTIVATION::Gene:Gene', 'reverse:STRING::ACTIVATION::Gene:Gene', 'STRING::INHIBITION::Gene:Gene', 'reverse:STRING::INHIBITION::Gene:Gene', 'STRING::OTHER::Gene:Gene', 'reverse:STRING::OTHER::Gene:Gene', 'STRING::BINDING::Gene:Gene', 'reverse:STRING::BINDING::Gene:Gene', 'STRING::PTMOD::Gene:Gene', 'reverse:STRING::PTMOD::Gene:Gene', 'STRING::EXPRESSION::Gene:Gene', 'reverse:STRING::EXPRESSION::Gene:Gene']\n"
     ]
    }
   ],
   "source": [
    "import os, pickle\n",
    "entset = pickle.load(open(os.path.join('./disease', 'id_entset.pkl'), 'rb'))\n",
    "factset = pickle.load(open(os.path.join('./disease', 'factset.pkl'), 'rb'))\n",
    "print(list(entset.keys()))\n",
    "print(list(factset.keys()))"
   ]
  },
  {
   "cell_type": "code",
   "execution_count": 1,
   "metadata": {},
   "outputs": [
    {
     "name": "stdout",
     "output_type": "stream",
     "text": [
      "8066643\n",
      "4071 8070714\n"
     ]
    }
   ],
   "source": [
    "import os, pickle\n",
    "a = pickle.load(open(os.path.join('./rel-disease', 'kge_answers.pkl'), 'rb'))\n",
    "count = 0\n",
    "for k, v in a.items():\n",
    "    count += len(v)\n",
    "print(count)\n",
    "tf = pickle.load(open(os.path.join('./rel-disease', 'test_facts.pkl'), 'rb'))\n",
    "print(len(tf), len(tf)+count)"
   ]
  },
  {
   "cell_type": "code",
   "execution_count": null,
   "metadata": {},
   "outputs": [],
   "source": []
  }
 ],
 "metadata": {
  "kernelspec": {
   "display_name": "py39",
   "language": "python",
   "name": "py39"
  },
  "language_info": {
   "codemirror_mode": {
    "name": "ipython",
    "version": 3
   },
   "file_extension": ".py",
   "mimetype": "text/x-python",
   "name": "python",
   "nbconvert_exporter": "python",
   "pygments_lexer": "ipython3",
   "version": "3.9.5"
  }
 },
 "nbformat": 4,
 "nbformat_minor": 2
}
