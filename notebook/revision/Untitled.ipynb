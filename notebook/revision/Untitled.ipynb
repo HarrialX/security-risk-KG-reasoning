{
 "cells": [
  {
   "cell_type": "code",
   "execution_count": 14,
   "id": "cdf1e283",
   "metadata": {},
   "outputs": [
    {
     "name": "stdout",
     "output_type": "stream",
     "text": [
      "--------------------------------------------------\n",
      "CVE-2015-2423 CVE:is:related:to:CVE\n",
      "CVE-2020-15707 CVE:is:related:to:CVE\n",
      "--------------------------------------------------\n",
      "CVE-2012-0217 CVE:is:related:to:CVE\n",
      "CVE-2014-0196 CVE:is:related:to:CVE\n"
     ]
    }
   ],
   "source": [
    "import pickle, os\n",
    "\n",
    "# tar-kgp\n",
    "entset = pickle.load(open('/data/zhaohan/adv-reasoning/logs/cyber/tar-kgp/box/2023.02.19-06:34:39/attack_kg/entset.pkl', 'rb'))\n",
    "factset = pickle.load(open('/data/zhaohan/adv-reasoning/logs/cyber/tar-kgp/box/2023.02.19-06:34:39/attack_kg/factset.pkl', 'rb'))\n",
    "id_factset = pickle.load(open('/data/zhaohan/adv-reasoning/logs/cyber/tar-kgp/box/2023.02.19-06:34:39/attack_kg/id_factset.pkl', 'rb'))\n",
    "ent2id = pickle.load(open('/data/zhaohan/adv-reasoning/logs/cyber/tar-kgp/box/2023.02.19-06:34:39/attack_kg/ent2id.pkl', 'rb'))\n",
    "rel2id = pickle.load(open('/data/zhaohan/adv-reasoning/logs/cyber/tar-kgp/box/2023.02.19-06:34:39/attack_kg/rel2id.pkl', 'rb'))\n",
    "id2ent = pickle.load(open('/data/zhaohan/adv-reasoning/logs/cyber/tar-kgp/box/2023.02.19-06:34:39/attack_kg/id2ent.pkl', 'rb'))\n",
    "id2rel = pickle.load(open('/data/zhaohan/adv-reasoning/logs/cyber/tar-kgp/box/2023.02.19-06:34:39/attack_kg/id2rel.pkl', 'rb'))\n",
    "\n",
    "facts = set()\n",
    "for _, v in id_factset.items():\n",
    "    facts |= v\n",
    "    \n",
    "poison_facts = [(110883, 9, 50084), (110883, 18, 8945), (85392, 3, 110883), (110883, 9, 91545), (110883, 15, 18526), (110883, 15, 50084), (8945, 3, 110883), (110883, 15, 49059), (110883, 9, 11347), (110883, 9, 29594), (110883, 15, 2933), (110883, 15, 91545), (110883, 9, 3561), (110883, 15, 41221), (110883, 15, 9605), (110883, 15, 79680), (85392, 16, 110883), (110883, 15, 3561), (110883, 15, 6743), (3561, 3, 110883), (110883, 9, 12826), (110883, 15, 103391), (110883, 9, 3356), (110883, 15, 79762), (110883, 9, 52670), (79680, 3, 110883), (110883, 15, 38621), (110883, 9, 8945), (110883, 9, 20651), (110883, 9, 18131), (110883, 15, 52670), (110883, 15, 8945), (103391, 3, 110883), (110883, 15, 25206), (73648, 3, 110883), (110883, 15, 92096), (42131, 3, 110883), (110883, 18, 86734), (38621, 3, 110883), (86734, 3, 110883), (110883, 15, 66563), (18526, 16, 110883), (52715, 3, 110883), (110883, 9, 106126), (110883, 15, 30825), (110883, 9, 3187), (110883, 9, 42131), (50084, 16, 110883), (50084, 3, 110883), (110883, 15, 3187), (110883, 9, 85392), (110883, 15, 41518), (110883, 15, 76859), (110883, 15, 32286), (110883, 15, 104524), (91545, 3, 110883), (110883, 9, 18526), (110883, 13, 109213), (110883, 15, 29784), (110883, 9, 86734), (110883, 15, 4059), (110883, 15, 95548), (110883, 15, 86734), (110883, 9, 43082), (91545, 16, 110883), (110883, 9, 169851), (110883, 9, 103391), (52670, 3, 110883), (110883, 15, 61088), (110883, 9, 16359), (76859, 3, 110883), (110883, 9, 73648), (110883, 15, 72135), (18131, 3, 110883), (110883, 15, 106570), (110883, 15, 73648), (110883, 18, 106126), (110883, 9, 107753), (110883, 9, 92096), (110883, 15, 3356), (106126, 3, 110883), (110883, 15, 18131), (110883, 15, 20651), (110883, 9, 52715), (110883, 18, 18526), (18526, 3, 110883), (110883, 15, 52715), (106126, 16, 110883), (110883, 9, 48227), (110883, 15, 48227), (110883, 15, 94664), (106126, 20, 110883), (110883, 15, 106126), (110883, 9, 29784), (110883, 15, 95759), (110883, 9, 4059), (110883, 15, 42131), (110883, 15, 85392), (110883, 15, 103816), (110883, 15, 14615)]\n",
    "poison_facts = set(poison_facts) - facts\n",
    "for h, r, t in poison_facts:\n",
    "    print(id2ent[h], id2rel[r], id2ent[t])\n",
    "\n",
    "# bait evidence\n",
    "bait_evi = [[(79146, 7), (90249, 7)], [(88155, 7), (90170, 7)]]\n",
    "for be in bait_evi:\n",
    "    print('-'*50)\n",
    "    for h, r in be:\n",
    "        print(id2ent[h], id2rel[r])"
   ]
  },
  {
   "cell_type": "code",
   "execution_count": 18,
   "id": "ee4304ed",
   "metadata": {},
   "outputs": [
    {
     "name": "stdout",
     "output_type": "stream",
     "text": [
      "--------------------------------------------------\n",
      "http://www.oracle.com/technetwork/topics/security/bulletinapr2016-2952098.html CVE:is:related:to:CVE\n",
      "http://www.oracle.com/technetwork/topics/security/linuxbulletinoct2015-2719645.html CVE:is:related:to:CVE\n",
      "--------------------------------------------------\n",
      "CVE-2012-0217 CVE:is:related:to:CVE\n",
      "CVE-2014-0196 CVE:is:related:to:CVE\n"
     ]
    }
   ],
   "source": [
    "import pickle, os\n",
    "\n",
    "# untar-kgp\n",
    "entset = pickle.load(open('/data/zhaohan/adv-reasoning/logs/cyber/untar-kgp/box/2023.02.19-06:35:13/attack_kg/entset.pkl', 'rb'))\n",
    "factset = pickle.load(open('/data/zhaohan/adv-reasoning/logs/cyber/untar-kgp/box/2023.02.19-06:35:13/attack_kg/factset.pkl', 'rb'))\n",
    "id_factset = pickle.load(open('/data/zhaohan/adv-reasoning/logs/cyber/untar-kgp/box/2023.02.19-06:35:13/attack_kg/id_factset.pkl', 'rb'))\n",
    "ent2id = pickle.load(open('/data/zhaohan/adv-reasoning/logs/cyber/untar-kgp/box/2023.02.19-06:35:13/attack_kg/ent2id.pkl', 'rb'))\n",
    "rel2id = pickle.load(open('/data/zhaohan/adv-reasoning/logs/cyber/untar-kgp/box/2023.02.19-06:35:13/attack_kg/rel2id.pkl', 'rb'))\n",
    "id2ent = pickle.load(open('/data/zhaohan/adv-reasoning/logs/cyber/untar-kgp/box/2023.02.19-06:35:13/attack_kg/id2ent.pkl', 'rb'))\n",
    "id2rel = pickle.load(open('/data/zhaohan/adv-reasoning/logs/cyber/untar-kgp/box/2023.02.19-06:35:13/attack_kg/id2rel.pkl', 'rb'))\n",
    "\n",
    "facts = set()\n",
    "for _, v in id_factset.items():\n",
    "    facts |= v\n",
    "    \n",
    "# poison_facts = [(110883, 15, 28533), (110883, 15, 45395), (110883, 15, 49059), (110883, 15, 44092), (17488, 3, 110883), (110883, 15, 34982), (110883, 15, 2942), (42606, 3, 110883), (28533, 3, 110883), (110883, 15, 41709), (110883, 15, 86282), (14828, 3, 110883), (110883, 15, 14477), (110883, 15, 95593), (110883, 15, 19886), (110883, 15, 49830), (110883, 15, 34292), (110883, 15, 15517), (86143, 3, 110883), (12227, 3, 110883), (110883, 15, 57478), (50985, 3, 110883), (110883, 15, 1568), (11412, 3, 110883), (110883, 15, 11712), (82469, 3, 110883), (110883, 15, 100922), (110883, 15, 71948), (110883, 15, 51373), (110883, 15, 73211), (81479, 3, 110883), (110883, 15, 82995), (110883, 15, 68418), (110883, 15, 15098), (11290, 3, 110883), (110883, 15, 16056), (110883, 15, 6763), (69964, 3, 110883), (110883, 15, 86369), (110883, 15, 72994), (68010, 3, 110883), (110883, 9, 83464), (79461, 3, 110883), (110883, 15, 90881), (110883, 15, 2162), (110883, 15, 107386), (110883, 15, 56028), (110883, 15, 47040), (86369, 3, 110883), (110883, 15, 32286), (206, 3, 110883), (110883, 13, 109213), (85001, 3, 110883), (49830, 3, 110883), (110883, 15, 82469), (110883, 15, 85828), (110883, 15, 26199), (110883, 15, 65143), (110883, 9, 104950), (110883, 15, 92582), (110883, 15, 73981), (44092, 3, 110883), (110883, 15, 72135), (110883, 15, 100987), (110883, 15, 36867), (110883, 13, 108974), (110883, 15, 33624), (55153, 3, 110883), (49059, 3, 110883), (110883, 15, 6645), (34292, 3, 110883), (34982, 3, 110883), (72135, 3, 110883), (110883, 15, 50745), (11462, 3, 110883), (4712, 3, 110883), (33624, 3, 110883), (110883, 15, 103613), (110883, 15, 81479), (110883, 15, 58625), (110883, 15, 89396), (110883, 15, 55153), (48920, 3, 110883), (87192, 3, 110883), (2162, 3, 110883), (110883, 9, 80801), (15776, 3, 110883), (110883, 15, 106343), (110883, 15, 99445), (110883, 15, 12227), (110883, 15, 86143), (99294, 3, 110883), (26199, 3, 110883), (68418, 3, 110883), (109213, 1, 110883), (110883, 15, 71825), (110883, 15, 82393), (110883, 15, 206), (110883, 15, 4712), (55444, 3, 110883)]\n",
    "# poison_facts = set(poison_facts) - facts\n",
    "# for h, r, t in poison_facts:\n",
    "#     print(id2ent[h], id2rel[r], id2ent[t])\n",
    "\n",
    "# bait evidence\n",
    "bait_evi = [[(165371, 7), (174553, 7)], [(88155, 7), (90170, 7)]]\n",
    "for be in bait_evi:\n",
    "    print('-'*50)\n",
    "    for h, r in be:\n",
    "        print(id2ent[h], id2rel[r])"
   ]
  },
  {
   "cell_type": "code",
   "execution_count": 7,
   "id": "1ff25a38",
   "metadata": {},
   "outputs": [
    {
     "name": "stdout",
     "output_type": "stream",
     "text": [
      "CWE:287 CWE:includes:CVE CVE-2021-21189\n",
      "CVE-2021-21189 CVE:affects:VD VD:Debian\n",
      "CVE-2021-21189 CVE:affects:VD VD:Google\n",
      "CVE-2021-21189 CVE:affects:VD VD:Fedoraproject\n",
      "CVE-2021-21189 CVE:affects:PD PD:Debian Linux\n",
      "CVE-2021-21189 CVE:affects:PD PD:Fedora\n",
      "CVE-2021-21189 CVE:affects:PD PD:Chrome\n",
      "CVE-2021-21189 CVE:affects:VER VER:Fedora:ver:32\n",
      "CVE-2021-21189 CVE:affects:VER VER:Debian Linux:ver:10.0\n",
      "CVE-2021-21189 CVE:affects:VER VER:Fedora:ver:34\n",
      "CVE-2021-21189 CVE:affects:VER VER:Fedora:ver:33\n",
      "CVE-2021-21189 CVE:has:propose:CAMP CAMP:Bypass a restriction or similar\n",
      "https://lists.fedoraproject.org/archives/list/package-announce@lists.fedoraproject.org/message/LCIDZ77XUDMB2EBPPWCQXPEIJERDNSNT/ MITI:mitigates:CVE CVE-2021-21189\n",
      "https://lists.fedoraproject.org/archives/list/package-announce@lists.fedoraproject.org/message/FE5SIKEVYTMDCC5OSXGOM2KRPYLHYMQX/ MITI:mitigates:CVE CVE-2021-21189\n",
      "https://chromereleases.googleblog.com/2021/03/stable-channel-update-for-desktop.html MITI:mitigates:CVE CVE-2021-21189\n",
      "https://lists.fedoraproject.org/archives/list/package-announce@lists.fedoraproject.org/message/BBT54RKAE5XLMWSHLVUKJ7T2XHHYMXLH/ MITI:mitigates:CVE CVE-2021-21189\n",
      "https://www.debian.org/security/2021/dsa-4886 MITI:mitigates:CVE CVE-2021-21189\n",
      "https://security.gentoo.org/glsa/202104-08 MITI:mitigates:CVE CVE-2021-21189\n",
      "PD:Chrome AP:is:related:to:CWE CVE-2021-21189\n",
      "CVE-2021-21189 reverse:CWE:includes:CVE CWE:287\n",
      "VD:Google reverse:CVE:affects:VD CVE-2021-21189\n",
      "VD:Debian reverse:CVE:affects:VD CVE-2021-21189\n",
      "VD:Fedoraproject reverse:CVE:affects:VD CVE-2021-21189\n",
      "PD:Chrome reverse:CVE:affects:PD CVE-2021-21189\n",
      "PD:Fedora reverse:CVE:affects:PD CVE-2021-21189\n",
      "PD:Debian Linux reverse:CVE:affects:PD CVE-2021-21189\n",
      "CVE-2021-21189 reverse:PD:has:VER PD:Chrome\n",
      "VER:Fedora:ver:32 reverse:CVE:affects:VER CVE-2021-21189\n",
      "VER:Fedora:ver:33 reverse:CVE:affects:VER CVE-2021-21189\n",
      "VER:Debian Linux:ver:10.0 reverse:CVE:affects:VER CVE-2021-21189\n",
      "VER:Fedora:ver:34 reverse:CVE:affects:VER CVE-2021-21189\n",
      "CAMP:Bypass a restriction or similar reverse:CVE:has:propose:CAMP CVE-2021-21189\n",
      "PD:Chrome reverse:CVE:has:propose:CAMP CVE-2021-21189\n",
      "CVE-2021-21189 reverse:MITI:mitigates:CVE https://lists.fedoraproject.org/archives/list/package-announce@lists.fedoraproject.org/message/LCIDZ77XUDMB2EBPPWCQXPEIJERDNSNT/\n",
      "CVE-2021-21189 reverse:MITI:mitigates:CVE https://security.gentoo.org/glsa/202104-08\n",
      "CVE-2021-21189 reverse:MITI:mitigates:CVE https://chromereleases.googleblog.com/2021/03/stable-channel-update-for-desktop.html\n",
      "CVE-2021-21189 reverse:MITI:mitigates:CVE https://www.debian.org/security/2021/dsa-4886\n",
      "CVE-2021-21189 reverse:MITI:mitigates:CVE https://lists.fedoraproject.org/archives/list/package-announce@lists.fedoraproject.org/message/BBT54RKAE5XLMWSHLVUKJ7T2XHHYMXLH/\n",
      "CVE-2021-21189 reverse:MITI:mitigates:CVE https://lists.fedoraproject.org/archives/list/package-announce@lists.fedoraproject.org/message/FE5SIKEVYTMDCC5OSXGOM2KRPYLHYMQX/\n"
     ]
    }
   ],
   "source": [
    "for k, v in factset.items():\n",
    "    for h, r, t in v:\n",
    "        if 'CVE-2021-21189' in h or 'CVE-2021-21189' in t:\n",
    "            print(h, r, t)"
   ]
  },
  {
   "cell_type": "code",
   "execution_count": null,
   "id": "46999ea0",
   "metadata": {},
   "outputs": [],
   "source": []
  }
 ],
 "metadata": {
  "kernelspec": {
   "display_name": "py39",
   "language": "python",
   "name": "py39"
  },
  "language_info": {
   "codemirror_mode": {
    "name": "ipython",
    "version": 3
   },
   "file_extension": ".py",
   "mimetype": "text/x-python",
   "name": "python",
   "nbconvert_exporter": "python",
   "pygments_lexer": "ipython3",
   "version": "3.9.7"
  }
 },
 "nbformat": 4,
 "nbformat_minor": 5
}
